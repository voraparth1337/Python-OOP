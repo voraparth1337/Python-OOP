{
 "cells": [
  {
   "cell_type": "markdown",
   "metadata": {},
   "source": [
    "## Python OOP\n",
    "\n",
    "By - drmrsnake :S\n",
    "\n",
    "In python defining a class == creating a class object (like int , str )\n",
    "Wait what?!\n",
    "> Defining a class creates a class object. Supports attribute reference and instantiation\n",
    "> Instantiating a class object creates an instance object. Only supports attribute reference"
   ]
  },
  {
   "cell_type": "code",
   "execution_count": 2,
   "metadata": {},
   "outputs": [],
   "source": [
    "# Class attributes, one is num variable and one is a greet function\n",
    "class MyClass:\n",
    "    num = 12345\n",
    "    def greet(self):\n",
    "        return \"Hello world!\"\n"
   ]
  },
  {
   "cell_type": "code",
   "execution_count": 3,
   "metadata": {},
   "outputs": [
    {
     "data": {
      "text/plain": [
       "12345"
      ]
     },
     "execution_count": 3,
     "metadata": {},
     "output_type": "execute_result"
    }
   ],
   "source": [
    "MyClass.num"
   ]
  },
  {
   "cell_type": "code",
   "execution_count": 4,
   "metadata": {},
   "outputs": [
    {
     "data": {
      "text/plain": [
       "<function __main__.MyClass.greet>"
      ]
     },
     "execution_count": 4,
     "metadata": {},
     "output_type": "execute_result"
    }
   ],
   "source": [
    "MyClass.greet"
   ]
  },
  {
   "cell_type": "markdown",
   "metadata": {},
   "source": [
    "Class instantiation\n",
    "\n",
    "x = MyClass(args)\n",
    "\n",
    "Instantiating\" a class constructs an instance object of that class object. In this case, x is an instance object of the MyClass class object"
   ]
  },
  {
   "cell_type": "code",
   "execution_count": 5,
   "metadata": {},
   "outputs": [
    {
     "data": {
      "text/plain": [
       "(3.0, -4.5)"
      ]
     },
     "execution_count": 5,
     "metadata": {},
     "output_type": "execute_result"
    }
   ],
   "source": [
    "# Custom Constructor using __init__()\n",
    "\n",
    "class Complex:\n",
    "    def __init__(self, realpart=0, imagpart=0):\n",
    "        self.real = realpart\n",
    "        self.imag = imagpart\n",
    "        \n",
    "# Class instantiation calls the special method __init__ if it exists\n",
    "\n",
    "c = Complex(3.0, -4.5)\n",
    "\n",
    "# Get attributes\n",
    "c.real, c.imag\n",
    "\n",
    "# You can't overload __init__!"
   ]
  },
  {
   "cell_type": "code",
   "execution_count": 6,
   "metadata": {},
   "outputs": [
    {
     "data": {
      "text/plain": [
       "(-9.2, 4.1)"
      ]
     },
     "execution_count": 6,
     "metadata": {},
     "output_type": "execute_result"
    }
   ],
   "source": [
    "# Set attributes\n",
    "c.real = -9.2\n",
    "c.imag = 4.1\n",
    "\n",
    "c.real, c.imag"
   ]
  },
  {
   "cell_type": "code",
   "execution_count": 16,
   "metadata": {},
   "outputs": [
    {
     "name": "stdout",
     "output_type": "stream",
     "text": [
      "1\n",
      "123\n"
     ]
    }
   ],
   "source": [
    "\n",
    "\n",
    "class MyOtherClass():\n",
    "    num = 12345\n",
    "    def __init__(self):\n",
    "        self.num = 0\n",
    "        \n",
    "x = MyOtherClass()\n",
    "\n",
    "x.num \n",
    "# -> 0\n",
    "\n",
    "del x.num\n",
    "\n",
    "x.num\n",
    "# -> 12345\n",
    "\n",
    "## Attribute references first search the instance's __dict__ attribute, then the class object's\n",
    "\n",
    "# You can set attributes on instance (and class) objects\n",
    "# on the fly (we used this in the constructor!)\n",
    "\n",
    "# setting object instance attribute\n",
    "x.num = 1\n",
    "\n",
    "# setting class objects attribute\n",
    "MyOtherClass.num = 123\n",
    "\n",
    "print(x.num)\n",
    "print(MyOtherClass.num)\n",
    "\n",
    "# Setting attributes actually inserts into the instance object's __dict__ attribute"
   ]
  },
  {
   "cell_type": "code",
   "execution_count": 17,
   "metadata": {},
   "outputs": [
    {
     "data": {
      "text/plain": [
       "mappingproxy({'__dict__': <attribute '__dict__' of 'MyOtherClass' objects>,\n",
       "              '__doc__': None,\n",
       "              '__init__': <function __main__.MyOtherClass.__init__>,\n",
       "              '__module__': '__main__',\n",
       "              '__weakref__': <attribute '__weakref__' of 'MyOtherClass' objects>,\n",
       "              'num': 123})"
      ]
     },
     "execution_count": 17,
     "metadata": {},
     "output_type": "execute_result"
    }
   ],
   "source": [
    "# __dict attribute of class\n",
    "MyOtherClass.__dict__"
   ]
  },
  {
   "cell_type": "code",
   "execution_count": 18,
   "metadata": {},
   "outputs": [
    {
     "data": {
      "text/plain": [
       "{'num': 1}"
      ]
     },
     "execution_count": 18,
     "metadata": {},
     "output_type": "execute_result"
    }
   ],
   "source": [
    "# __dict attribute of class instance\n",
    "x.__dict__"
   ]
  },
  {
   "cell_type": "markdown",
   "metadata": {},
   "source": [
    "### Methods vs Functions\n",
    "\n",
    "A method is a function bound to an object\n",
    "\n",
    "Methods calls invoke special semantics\n",
    "\n",
    "```python\n",
    "object.method(arguments) = function(object, arguments)\n",
    "```"
   ]
  },
  {
   "cell_type": "code",
   "execution_count": 20,
   "metadata": {},
   "outputs": [
    {
     "name": "stdout",
     "output_type": "stream",
     "text": [
      "<class 'method'>\n",
      "<class 'function'>\n"
     ]
    }
   ],
   "source": [
    "# method vs function\n",
    "x = MyClass()\n",
    "\n",
    "print(type(x.greet)) # method\n",
    "print(type(MyClass.greet)) # function\n",
    "\n"
   ]
  },
  {
   "cell_type": "code",
   "execution_count": 21,
   "metadata": {},
   "outputs": [
    {
     "data": {
      "text/plain": [
       "<bound method MyClass.greet of <__main__.MyClass object at 0x7f3184248b00>>"
      ]
     },
     "execution_count": 21,
     "metadata": {},
     "output_type": "execute_result"
    }
   ],
   "source": [
    "# assigning method to a variable \n",
    "\n",
    "method = x.greet\n",
    "method"
   ]
  },
  {
   "cell_type": "code",
   "execution_count": 24,
   "metadata": {},
   "outputs": [
    {
     "name": "stdout",
     "output_type": "stream",
     "text": [
      "<__main__.MyClass object at 0x7f3184248b00>\n",
      "greet\n",
      "None\n",
      "<function MyClass.greet at 0x7f31842b6ae8>\n"
     ]
    }
   ],
   "source": [
    "# __self__ -> instance object \n",
    "# __name__ -> method name\n",
    "# __doc__ -> method's doc string\n",
    "# __func__ -> function object\n",
    "print(method.__self__)\n",
    "print(method.__name__)\n",
    "print(method.__doc__)\n",
    "print(method.__func__)"
   ]
  },
  {
   "cell_type": "code",
   "execution_count": null,
   "metadata": {
    "collapsed": true
   },
   "outputs": [],
   "source": [
    "x.greet() #-> implicitly calls MyClass.greet(x)"
   ]
  },
  {
   "cell_type": "markdown",
   "metadata": {},
   "source": [
    "## Inheritance \n",
    "\n",
    "```python\n",
    "class DerivedClassName(BaseClassName):\n",
    "    pass\n",
    "```\n",
    "\n",
    "> A class object 'remembers' its base class. \n",
    "\n",
    "> Python 3 class objects inherit from object (by default). \n",
    "\n",
    "> Method and attribute lookup begins in the derived class.\n",
    "\n",
    "> Proceeds down the chain of base classes.\n",
    "\n",
    "> Derived methods override (shadow) base methods.\n",
    "\n",
    "> Like `virtual` in C++.\n",
    "\n",
    "\n",
    "### Multiple Inheritance\n",
    "\n",
    "```python\n",
    "class Derived(Base1, Base2, ..., BaseN):\n",
    "    pass\n",
    "\n",
    "# Order matters !\n",
    "\n",
    "```\n",
    "\n",
    "Attribute lookup is (almost) depth-first, left-to-right.\n",
    "\n",
    "Class objects have a (hidden) function attribute .mro()\n",
    "\n",
    "Shows linearization of base classes\n",
    "\n"
   ]
  },
  {
   "cell_type": "code",
   "execution_count": 26,
   "metadata": {},
   "outputs": [
    {
     "data": {
      "text/plain": [
       "[__main__.Z,\n",
       " __main__.K1,\n",
       " __main__.K2,\n",
       " __main__.K3,\n",
       " __main__.D,\n",
       " __main__.A,\n",
       " __main__.B,\n",
       " __main__.C,\n",
       " __main__.E,\n",
       " object]"
      ]
     },
     "execution_count": 26,
     "metadata": {},
     "output_type": "execute_result"
    }
   ],
   "source": [
    "class A: pass\n",
    "class B: pass\n",
    "class C: pass\n",
    "class D: pass\n",
    "class E: pass\n",
    "\n",
    "class K1(A, B, C): pass\n",
    "class K2(D, B, E): pass\n",
    "class K3(D, A): pass\n",
    "\n",
    "class Z(K1, K2, K3): pass\n",
    "\n",
    "# shows linearization of classes\n",
    "\n",
    "Z.mro()"
   ]
  },
  {
   "cell_type": "markdown",
   "metadata": {},
   "source": [
    "### Magic methods, that can enable us change the behavior of a class.\n",
    "\n",
    "```python\n",
    "class MagicClass:\n",
    "\n",
    "# constructor\n",
    "def __init__(self): pass\n",
    "\n",
    "# name's enough\n",
    "def __contains__(self, key): pass\n",
    "\n",
    "# to add an item with another\n",
    "def __add__(self, other): pass\n",
    "\n",
    "# to iterate over it\n",
    "def __iter__(self): pass\n",
    "\n",
    "# get the next item\n",
    "def __next__(self): pass\n",
    "\n",
    "# name's enough\n",
    "def __getitem__(self, key): pass\n",
    "\n",
    "# name's enough\n",
    "def __len__(self): pass\n",
    "\n",
    "# less than comparison , gt, gte, lte -> for different types of comparisons\n",
    "def __lt__(self, other): pass\n",
    "\n",
    "# comparing two objects\n",
    "def __eq__(self, other): pass\n",
    "\n",
    "'''\n",
    "__repr__\n",
    "\n",
    "Called by the repr() built-in function and by string conversions (reverse quotes) to compute the \"official\" string representation of an object. If at all possible, this should look like a valid Python expression that could be used to recreate an object with the same value (given an appropriate environment).\n",
    "\n",
    "__str__\n",
    "\n",
    "Called by the str() built-in function and by the print statement to compute the \"informal\" string representation of an object. '''\n",
    "\n",
    "def __str__(self): pass\n",
    "def __repr__(self): pass\n",
    "\n",
    "# example\n",
    "\n",
    "x = MagicClass()\n",
    "y = MagicClass()\n",
    "str(x)   # => x.__str__()\n",
    "x == y   # => x.__eq__(y)\n",
    "x < y    # x.__lt__(y)\n",
    "x + y    # x.__add__(y)\n",
    "iter(x)  # x.__iter__()\n",
    "next(x)  # x.__next__()\n",
    "len(x)   # x.__len__()\n",
    "el in x  # x.__contains__(el)\n",
    "\n",
    "\n",
    "```\n",
    "\n",
    "\n",
    "[For more magic methods !!](http://www.diveintopython3.net/special-method-names.html)"
   ]
  },
  {
   "cell_type": "markdown",
   "metadata": {},
   "source": [
    "## Errors and Exceptions\n",
    "\n",
    "Syntax Errors - errors before execution\n",
    "Exceptions - errors during execution\n",
    "\n",
    "```python\n",
    "\n",
    ">>> while True print('Hello world')\n",
    "        File \"<stdin>\", line 1\n",
    "        while True print('Hello world')\n",
    "                        ^\n",
    "```\n",
    "Error is detected at the token preceding the arrow\n",
    "\n",
    "Exceptions\n",
    "```python\n",
    ">>> 10 * (1/0)\n",
    "    '''\n",
    "    Traceback (most recent call last):\n",
    "    File \"<stdin>\", line 1\n",
    "    ZeroDivisionError: division by zero\n",
    "    '''\n",
    ">>> 4 + spam*3\n",
    "    '''\n",
    "    Traceback (most recent call last):\n",
    "    File \"<stdin>\", line 1\n",
    "    NameError: name 'spam' is not defined\n",
    "    '''\n",
    ">>> '2' + 2\n",
    "    '''\n",
    "    Traceback (most recent call last):\n",
    "    File \"<stdin>\", line 1\n",
    "    TypeError: Can't convert 'int' object to str implicitly\n",
    "    '''\n",
    "```   \n",
    "```\n",
    "BaseException\n",
    "├── OSError\n",
    "├── SystemError\n",
    "├── SystemExit\n",
    "│ ├── BlockingIOError\n",
    "├── TypeError\n",
    "├── KeyboardInterrupt\n",
    "│ ├── ChildProcessError\n",
    "├── ValueError\n",
    "├── GeneratorExit\n",
    "│ ├── ConnectionError\n",
    "│ └── UnicodeError\n",
    "└── Exception\n",
    "│ │ ├── BrokenPipeError\n",
    "│\n",
    "├── UnicodeDecodeError\n",
    "├── StopIteration\n",
    "│ │ ├── ConnectionAbortedError │\n",
    "├── UnicodeEncodeError\n",
    "├── ArithmeticError\n",
    "│ │ ├── ConnectionRefusedError │\n",
    "└── UnicodeTranslateError\n",
    "│ ├── FloatingPointError │ │ └── ConnectionResetError └─ Warning\n",
    "│ ├── OverflowError\n",
    "│ ├── FileExistsError\n",
    "├── DeprecationWarning\n",
    "│ └── ZeroDivisionError │ ├── FileNotFoundError\n",
    "├── PendingDeprecationWarning\n",
    "├── AssertionError\n",
    "│ ├── InterruptedError\n",
    "├── RuntimeWarning\n",
    "├── AttributeError\n",
    "│ ├── IsADirectoryError\n",
    "├── SyntaxWarning\n",
    "├── BufferError\n",
    "│ ├── NotADirectoryError\n",
    "├── UserWarning\n",
    "├── EOFError\n",
    "│ ├── PermissionError\n",
    "├── FutureWarning\n",
    "├── ImportError\n",
    "│ ├── ProcessLookupError\n",
    "├── ImportWarning\n",
    "├── LookupError\n",
    "│ └── TimeoutError\n",
    "├── UnicodeWarning\n",
    "│ ├── IndexError\n",
    "├── ReferenceError\n",
    "├── BytesWarning\n",
    "│ └── KeyError\n",
    "├── RuntimeError\n",
    "└── ResourceWarning\n",
    "├── MemoryError\n",
    "│ └── NotImplementedError\n",
    "├── NameError\n",
    "├── SyntaxError\n",
    "│ └── UnboundLocalError │ └── IndentationError\n",
    "├── OSError\n",
    "│\n",
    "└── TabError\n",
    "```"
   ]
  },
  {
   "cell_type": "markdown",
   "metadata": {},
   "source": [
    "### Handing exceptions\n",
    "\n",
    "```python\n",
    "\n",
    "def read_int():\n",
    "\"\"\"Reads an integer from the user (fixed)\"\"\"\n",
    "    while True:\n",
    "        try:\n",
    "            x = int(input(\"Please enter a number: \"))\n",
    "            break\n",
    "        except ValueError:\n",
    "            print(\"Oops! Invalid input. Try again...\")\n",
    "    return x\n",
    "```\n",
    "\n",
    "#### Mechanics of try statement\n",
    "1. Attempt to execute the try clause\n",
    "2. a If no exception occurs, skip the except clause. Done!\n",
    "2. b. If an exception occurs, skip the rest of the try clause.\n",
    "2. b i) If the exception's type matches (/ is a subclass of ) that named by except, then execute the except clause. Done!\n",
    "2. b ii) Otherwise, hand off the exception to any outer try statements. If unhandled, halt execution. Done!\n",
    "\n",
    "#### Types of exceptions\n",
    "\n",
    "``` python\n",
    "try:\n",
    "    distance = int(input(\"How far? \"))\n",
    "    time = car.speed / distance\n",
    "    car.drive(time)\n",
    "except ValueError as e: # Bind a name to the exception instance\n",
    "    print(e)\n",
    "except ZeroDivisionError: \n",
    "    print(\"Division by zero!\") \n",
    "except (NameError, AttributeError): # Catch multiple exceptions\n",
    "    print(\"Bad Car\") \n",
    "except: # \"Wildcard\" catches everything\n",
    "    print(\"Car unexpectedly crashed!\")\n",
    "\n",
    "```"
   ]
  },
  {
   "cell_type": "markdown",
   "metadata": {},
   "source": [
    "### The \"raise\" keyword."
   ]
  },
  {
   "cell_type": "code",
   "execution_count": 27,
   "metadata": {},
   "outputs": [
    {
     "ename": "NameError",
     "evalue": "Why hello there!",
     "output_type": "error",
     "traceback": [
      "\u001b[0;31m---------------------------------------------------------------------------\u001b[0m",
      "\u001b[0;31mNameError\u001b[0m                                 Traceback (most recent call last)",
      "\u001b[0;32m<ipython-input-27-1ea802685ca5>\u001b[0m in \u001b[0;36m<module>\u001b[0;34m()\u001b[0m\n\u001b[0;32m----> 1\u001b[0;31m \u001b[0;32mraise\u001b[0m \u001b[0mNameError\u001b[0m\u001b[0;34m(\u001b[0m\u001b[0;34m'Why hello there!'\u001b[0m\u001b[0;34m)\u001b[0m\u001b[0;34m\u001b[0m\u001b[0m\n\u001b[0m",
      "\u001b[0;31mNameError\u001b[0m: Why hello there!"
     ]
    }
   ],
   "source": [
    "raise NameError('Why hello there!')\n"
   ]
  },
  {
   "cell_type": "code",
   "execution_count": 28,
   "metadata": {},
   "outputs": [
    {
     "ename": "NameError",
     "evalue": "",
     "output_type": "error",
     "traceback": [
      "\u001b[0;31m---------------------------------------------------------------------------\u001b[0m",
      "\u001b[0;31mNameError\u001b[0m                                 Traceback (most recent call last)",
      "\u001b[0;32m<ipython-input-28-a586bde47246>\u001b[0m in \u001b[0;36m<module>\u001b[0;34m()\u001b[0m\n\u001b[0;32m----> 1\u001b[0;31m \u001b[0;32mraise\u001b[0m \u001b[0mNameError\u001b[0m\u001b[0;34m\u001b[0m\u001b[0m\n\u001b[0m",
      "\u001b[0;31mNameError\u001b[0m: "
     ]
    }
   ],
   "source": [
    "raise NameError\n"
   ]
  },
  {
   "cell_type": "markdown",
   "metadata": {},
   "source": [
    "### Raise with except claus\n",
    "``` python\n",
    "try:\n",
    "    raise NotImplementedError(\"TODO\")\n",
    "except NotImplementedError:\n",
    "    print('Looks like an exception to me!')\n",
    "    raise # re raises the currently active exception\n",
    "\n",
    "```"
   ]
  },
  {
   "cell_type": "markdown",
   "metadata": {},
   "source": [
    "### Good python practice\n",
    "```python\n",
    "try: \n",
    "    pass\n",
    "except: \n",
    "    pass\n",
    "else: \n",
    "    # Code that executes if the try clause does not raise an exception\n",
    "    do_something()\n",
    "```\n",
    "\n",
    "Why? Avoid accidentally catching an exception raised by something other than the code being protected"
   ]
  },
  {
   "cell_type": "markdown",
   "metadata": {},
   "source": [
    "### Custom Exceptions\n",
    "\n",
    "```python\n",
    "class Error(Exception):\n",
    "    \"\"\"Base class for errors in this module.\"\"\"\n",
    "    pass\n",
    "\n",
    "\n",
    "class BadLoginError(Error):\n",
    "    \"\"\"A user attempted to login with an incorrect password.\"\"\"\n",
    "    pass\n",
    "```"
   ]
  },
  {
   "cell_type": "markdown",
   "metadata": {},
   "source": [
    "### finally clause\n",
    "\n",
    "Executed upon leaving the try/except/else block\n",
    "\n",
    "```python\n",
    "try:\n",
    "    raise NotImplementedError\n",
    "finally:\n",
    "    print('Goodbye, world!')\n",
    "```\n",
    "\n",
    "Working of a final statement\n",
    "\n",
    "1. Always executed before leaving the try statement.\n",
    "2. Unhandled exceptions (not caught, or raised in except) are re-raised after finally executes.\n",
    "3. Also executed \"on the way out\" (break, continue, return).\n",
    "\n",
    "This also enables us to use with .. as .."
   ]
  }
 ],
 "metadata": {
  "kernelspec": {
   "display_name": "Python 3",
   "language": "python",
   "name": "python3"
  },
  "language_info": {
   "codemirror_mode": {
    "name": "ipython",
    "version": 3
   },
   "file_extension": ".py",
   "mimetype": "text/x-python",
   "name": "python",
   "nbconvert_exporter": "python",
   "pygments_lexer": "ipython3",
   "version": "3.6.1"
  }
 },
 "nbformat": 4,
 "nbformat_minor": 2
}
